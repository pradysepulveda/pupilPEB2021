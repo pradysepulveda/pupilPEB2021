{
 "cells": [
  {
   "cell_type": "markdown",
   "metadata": {},
   "source": [
    "# Model comparison PEB - Experiment 2 - Perceptual Decision\n",
    "# Group level analysis"
   ]
  },
  {
   "cell_type": "code",
   "execution_count": 1,
   "metadata": {},
   "outputs": [
    {
     "name": "stdout",
     "output_type": "stream",
     "text": [
      "Populating the interactive namespace from numpy and matplotlib\n"
     ]
    },
    {
     "name": "stderr",
     "output_type": "stream",
     "text": [
      "/Users/pradyumna/anaconda3/lib/python3.7/site-packages/IPython/core/magics/pylab.py:160: UserWarning: pylab import has clobbered these variables: ['pylab', 'copy']\n",
      "`%matplotlib` prevents importing * from pylab and numpy\n",
      "  \"\\n`%matplotlib` prevents importing * from pylab and numpy\"\n"
     ]
    }
   ],
   "source": [
    "import pandas as pd\n",
    "import numpy as np\n",
    "import os.path\n",
    "import numpy\n",
    "import statistics \n",
    "\n",
    "import numpy as np\n",
    "import pandas as pd\n",
    "from pandas.core.frame import DataFrame as DF\n",
    "import seaborn as sns\n",
    "\n",
    "sns.set(color_codes=True)\n",
    "#np.random.seed(sum(map(ord, \"distributions\")))\n",
    "from sklearn import linear_model  # packages for the logistic regression function to plot the logistic regression \n",
    "from sklearn.linear_model import LogisticRegression # packages for the logistic regression function to plot the logistic regression \n",
    "import scipy\n",
    "from scipy import stats, integrate\n",
    "from scipy.stats import mode\n",
    "from scipy.stats.stats import pearsonr # Pearson's correlation\n",
    "from copy import copy as copy\n",
    "import operator as operator\n",
    "import pylab\n",
    "\n",
    "# Plotting tools\n",
    "%matplotlib inline\n",
    "import matplotlib.pyplot as plt\n",
    "import matplotlib.gridspec as gridspec\n",
    "import matplotlib.patches as mpatches\n",
    "from matplotlib.ticker import FuncFormatter\n",
    "from mpl_toolkits.mplot3d import Axes3D\n",
    "from matplotlib import cm\n",
    "%pylab inline\n",
    "figsize(5, 5)\n",
    "\n",
    "import glob\n",
    "import os"
   ]
  },
  {
   "cell_type": "code",
   "execution_count": 2,
   "metadata": {},
   "outputs": [],
   "source": [
    "#def ttestsPlot(data1, data2,c1 ='#4F6A9A',c2 = '#AC5255',lab1 = \"Like\", lab2 = \"Dislike\",title = ''):\n",
    "#\n",
    "#    # t-TEST\n",
    "#    diff = mean(data1) - mean(data2)\n",
    "#    [s, p] = stats.ttest_rel(data1,data2)\n",
    "#    print (\"data1 = \"+ str(mean(data1))+ \"; data2 = \"+ str(mean(data2))+\"; [data1 - data2] =  \" + str(diff) +\"; t =  \" + str(round(s,2)) + \" ; p-value =\" + str(p) )\n",
    "#    \n",
    "#        \n",
    "#    # PLOT LIKE AND DISLIKE VARIABILITY\n",
    "#        \n",
    "#    # Set seaborn style for the plot\n",
    "#    fig = plt.figure(figsize=[6,10])\n",
    "#    sns.set(style='white',font_scale=1.5)\n",
    "#    jittr = np.random.uniform(low=-0.3,high=0.3,size=len(data1))    \n",
    "#    plt.scatter([1]*len(data1)+jittr, data1, c= c1, alpha=0.7,label=lab1,hatch='//')\n",
    "#    plt.scatter([2]*len(data2)+jittr, data2, c= c2, alpha=0.7,label=lab2)\n",
    "#    \n",
    "#    ## add lines between slope points in like and dislike for each participant\n",
    "#    count = 0\n",
    "#    for i in range(len(data1)):\n",
    "#        plt.plot( [1 + jittr[i],2 + jittr[i]], [ data1[i] , data2[i]],'--', lw=1.0, color = 'black', alpha = 0.2)\n",
    "#        if data1[i] < data2[i]:\n",
    "#            print (\"Participants with InvFull > Full: \" + str(i) + '. Difference : ' + str(data1[i] - data2[i]))\n",
    "#            count+=1\n",
    "#    print (\"Total number of participants with lower WAIC for \" + lab1+ ' : ' + str(count))\n",
    "#        \n",
    "#    #legend(loc = 'best')\n",
    "#    plt.xticks([1, 2,], [lab1, lab2],fontsize=18)\n",
    "#    plt.ylabel(title, fontsize=18)\n",
    "#    sns.despine()"
   ]
  },
  {
   "cell_type": "markdown",
   "metadata": {},
   "source": [
    "-------------------------"
   ]
  },
  {
   "cell_type": "markdown",
   "metadata": {},
   "source": [
    "# 1. Model comparison - WAIC scores\n"
   ]
  },
  {
   "cell_type": "code",
   "execution_count": 5,
   "metadata": {},
   "outputs": [],
   "source": [
    "\n",
    "# waic scores Model Basic , Model Null , Heuristic (including Inverse for the negative frame)\n",
    "# Waic Order\n",
    "# Model Basic\n",
    "# Model Null\n",
    "# Model Heuristic (Inverted evidence for dislike frame)\n",
    "# Model Heuristic Non-Inverted (only dislike)\n",
    "\n",
    "waic_scores_1 = [-399704.9093,\n",
    "-695406.642069072] # most frame\n",
    "\n",
    "waic_scores_2 = [-399000.4993,\n",
    "-732693.4135]# few frame\n",
    "#-1088540.93] # no inverted waic score for few heuristic model\n"
   ]
  },
  {
   "cell_type": "code",
   "execution_count": 7,
   "metadata": {},
   "outputs": [
    {
     "data": {
      "image/png": "[encoded data removed]",
      "text/plain": [
       "<Figure size 720x576 with 1 Axes>"
      ]
     },
     "metadata": {},
     "output_type": "display_data"
    }
   ],
   "source": [
    "ysize = 20\n",
    "ticksize = 20\n",
    "nticks = 7\n",
    "\n",
    "fig, ax = plt.subplots(1,1,figsize=(10,8))\n",
    "sns.set(style='white', font_scale=1.8)\n",
    "\n",
    "ax.set_facecolor('xkcd:white')\n",
    "width_bars = 0.4\n",
    "bars1 = plt.bar(np.add(range(len(waic_scores_1)),-0.25), waic_scores_1, color='#4F6A9A',width = width_bars, hatch = '')\n",
    "bars2 = plt.bar(np.add(range(len(waic_scores_2)),+0.25), waic_scores_2, color='#AC5255',width = width_bars, hatch = '')\n",
    "\n",
    "patterns = ('', '')\n",
    "\n",
    "#plt.xticks(x, ('', 'Frame-Value', 'Preference-Value'))\n",
    "#plt.ylim(15000,18000)\n",
    "plt.ylabel('WAIC score',fontsize = ysize )\n",
    "\n",
    "patch_1 = mpatches.Patch(facecolor='#4F6A9A',hatch=r'', label='High Clicks')\n",
    "patch_2 = mpatches.Patch(facecolor='#AC5255',hatch=r'', label='Low CLicks')\n",
    "\n",
    "leg = plt.legend(handles=[patch_1,patch_2] )\n",
    "leg.get_frame().set_facecolor('none')\n",
    "leg.get_frame().set_linewidth(0.0)\n",
    "\n",
    "#for bar, pattern in zip(bars, patterns):\n",
    "#    bar.set_hatch(pattern)\n",
    "\n",
    "#for i in range(len(Models_WAIC)):\n",
    "#    position_parts= np.full(len(Models_WAIC_part[i]),i, dtype=int)\n",
    "#    jittr = np.random.uniform(low=-0.2,high=0.2,size=len(Models_WAIC_part[i]))/2\n",
    "#    ax.plot(position_parts+jittr, Models_WAIC_part[i], marker='o', ms=8, color='#000000',alpha=0.3,linestyle=\"None\")\n",
    "\n",
    "    \n",
    "# Turn off tick labels\n",
    "plt.xticks([0,1],['AVM','HM'])\n",
    "plt.axhline(0, color='black', lw=2, alpha=0.5)\n",
    "plt.yticks(fontsize=ticksize)\n",
    "ax.yaxis.set_major_locator(plt.MaxNLocator(nticks))\n",
    "ax.xaxis.tick_top()\n",
    "#plt.tick_params( axis='x', which='both',bottom=False,top=False,labelbottom=False) \n",
    "#plt.xticks([],[])\n",
    "\n",
    "sns.despine()\n",
    "\n",
    "plt.show()\n",
    "\n",
    "#fig.savefig(str('SavedFigures/WAIC_ModelComparison_like.png'), dpi = 200 )"
   ]
  },
  {
   "cell_type": "markdown",
   "metadata": {},
   "source": [
    "------------------"
   ]
  },
  {
   "cell_type": "markdown",
   "metadata": {},
   "source": [
    " # ---[END]----"
   ]
  },
  {
   "cell_type": "code",
   "execution_count": null,
   "metadata": {},
   "outputs": [],
   "source": []
  }
 ],
 "metadata": {
  "kernelspec": {
   "display_name": "Python 3 (ipykernel)",
   "language": "python",
   "name": "python3"
  },
  "language_info": {
   "codemirror_mode": {
    "name": "ipython",
    "version": 3
   },
   "file_extension": ".py",
   "mimetype": "text/x-python",
   "name": "python",
   "nbconvert_exporter": "python",
   "pygments_lexer": "ipython3",
   "version": "3.7.3"
  }
 },
 "nbformat": 4,
 "nbformat_minor": 4
}
