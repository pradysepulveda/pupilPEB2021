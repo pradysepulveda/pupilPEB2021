{
 "cells": [
  {
   "cell_type": "code",
   "execution_count": 7,
   "metadata": {
    "collapsed": true,
    "jupyter": {
     "outputs_hidden": true
    }
   },
   "outputs": [],
   "source": [
    "import numpy as np\n",
    "import pandas as pd\n",
    "from sklearn import linear_model # packages for the logistic regression function to plot the logistic regression \n",
    "from sklearn.linear_model import LogisticRegression # packages for the logistic regression function to plot the logistic regression \n",
    "from scipy import stats\n",
    "from scipy import signal\n",
    "from scipy.stats.stats import pearsonr # Pearson's correlation\n",
    "from pandas.core.frame import DataFrame as DF\n",
    "from copy import copy as copy\n",
    "import operator as operator\n",
    "import pylab\n",
    "import scipy.io as spi\n",
    "import seaborn as sns; \n",
    "# Show graphs in Notebook\n",
    "%matplotlib inline\n",
    "\n",
    "# linking to files in notebooks\n",
    "from IPython.display import FileLink, FileLinks\n",
    "\n",
    "# Plotting tools\n",
    "import matplotlib.pyplot as plt\n",
    "import matplotlib.gridspec as gridspec\n",
    "# Useful to quickly extract csv files\n",
    "import glob\n",
    "import os\n",
    "from random import *"
   ]
  },
  {
   "cell_type": "code",
   "execution_count": 13,
   "metadata": {},
   "outputs": [
    {
     "name": "stdout",
     "output_type": "stream",
     "text": [
      "Selected condition : 1.0\n",
      "Selected Item:  11_lindt_orange\n",
      "Item bid (GBP) : 1.35\n",
      "Item price (GBP) : 0.81\n",
      "Item || 11_lindt_orange || was purchased\n"
     ]
    }
   ],
   "source": [
    "choice_list = \"/Users/bdmlab/Google Drive/BdM Projects/EyeTracker/EB experiments/results_example/test/CHOICE_RESULTS_FILE.txt\"\n",
    "bdm_list = \"/Users/bdmlab/Google Drive/BdM Projects/EyeTracker/EB experiments/results_example/test/BDM_RESULTS_FILE.txt\"\n",
    "\n",
    "# Define DataFrame for CHOICE and BDM\n",
    "choice_frame = [pd.read_csv(choice_list, sep=\"\\t\")]\n",
    "bdm_frame = [pd.read_csv(bdm_list, sep=\"\\t\")]\n",
    "choice_data = pd.concat(choice_frame)\n",
    "bdm_data = pd.concat(bdm_frame)\n",
    "\n",
    "trial_num =  len(choice_data)\n",
    "\n",
    "\n",
    "# pick random trial from CHOICE_LIST\n",
    "trial_selec = randint(4,trial_num)    \n",
    "trial_selec\n",
    "condition = choice_data.loc[trial_selec,'Block_Cond']\n",
    "print ('Selected condition :', condition)\n",
    "\n",
    "# pick random trial  \n",
    "if condition == 1:  # 1 : Like \n",
    "    keypress = choice_data.loc[trial_selec,'CHOICE_KEYPRESS']\n",
    "    if keypress == 'z': # z : left / m : right\n",
    "        selec_item = choice_data.loc[trial_selec,'LL_Item']\n",
    "    else:    \n",
    "        selec_item = choice_data.loc[trial_selec,'LR_Item']\n",
    "\n",
    "if condition == 2:  # 2 : dislike\n",
    "    keypress = choice_data.loc[trial_selec,'CHOICE_KEYPRESS']\n",
    "    if keypress == 'z': # z : left / m : right\n",
    "        selec_item = choice_data.loc[trial_selec,'LR_Item']\n",
    "    else:    \n",
    "        selec_item = choice_data.loc[trial_selec,'LL_Item']\n",
    "\n",
    "print ('Selected Item: ', selec_item[0:len(selec_item)-4])\n",
    "bdm_items = bdm_data.loc[:,'BDM_ITM']\n",
    "#print (bdm_items)\n",
    "\n",
    "indices = [i for i, s in enumerate(bdm_items) if selec_item in s]\n",
    "#print (indices)\n",
    "\n",
    "\n",
    "#Check BDM value assigned by the participant for the desired item\n",
    "item_bid = bdm_data.loc[indices,'BDM_VAL']\n",
    "print ('Item bid (GBP) :', item_bid.iloc[0])\n",
    "\n",
    "\n",
    "# Random number to define if subject gets the object or not\n",
    "rand_price = randint(0,300)/100    \n",
    "\n",
    "print ('Item price (GBP) :', rand_price)\n",
    "\n",
    "if item_bid.iloc[0]>rand_price: \n",
    "    print ('Item ||', selec_item[0:len(selec_item)-4], '|| was purchased')\n",
    "else:\n",
    "    print ('Item ||', selec_item[0:len(selec_item)-4], '|| was NOT purchased for ')\n",
    "    "
   ]
  },
  {
   "cell_type": "code",
   "execution_count": null,
   "metadata": {},
   "outputs": [],
   "source": []
  },
  {
   "cell_type": "code",
   "execution_count": null,
   "metadata": {},
   "outputs": [],
   "source": []
  },
  {
   "cell_type": "code",
   "execution_count": null,
   "metadata": {},
   "outputs": [],
   "source": []
  }
 ],
 "metadata": {
  "kernelspec": {
   "display_name": "Python 3 (ipykernel)",
   "language": "python",
   "name": "python3"
  },
  "language_info": {
   "codemirror_mode": {
    "name": "ipython",
    "version": 3
   },
   "file_extension": ".py",
   "mimetype": "text/x-python",
   "name": "python",
   "nbconvert_exporter": "python",
   "pygments_lexer": "ipython3",
   "version": "3.7.3"
  }
 },
 "nbformat": 4,
 "nbformat_minor": 4
}
